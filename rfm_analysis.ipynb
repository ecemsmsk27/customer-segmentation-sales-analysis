{
 "cells": [
  {
   "cell_type": "code",
   "execution_count": 3,
   "metadata": {},
   "outputs": [],
   "source": [
    "import pandas as pd\n",
    "import datetime as dt\n",
    "\n",
    "excel_file = \"online_retail_II.xlsx\"\n",
    "df_2009_2010 = pd.read_excel(excel_file, sheet_name=\"Year 2009-2010\")\n",
    "df_2010_2011 = pd.read_excel(excel_file, sheet_name=\"Year 2010-2011\")\n",
    "\n",
    "df = pd.concat([df_2009_2010, df_2010_2011], ignore_index=True)"
   ]
  },
  {
   "cell_type": "code",
   "execution_count": 6,
   "metadata": {},
   "outputs": [
    {
     "name": "stdout",
     "output_type": "stream",
     "text": [
      "Index(['Invoice', 'StockCode', 'Description', 'Quantity', 'InvoiceDate',\n",
      "       'Price', 'Customer ID', 'Country'],\n",
      "      dtype='object')\n"
     ]
    }
   ],
   "source": [
    "print(df.columns)"
   ]
  },
  {
   "cell_type": "code",
   "execution_count": 8,
   "metadata": {},
   "outputs": [
    {
     "name": "stdout",
     "output_type": "stream",
     "text": [
      "Invoice        0\n",
      "StockCode      0\n",
      "Description    0\n",
      "Quantity       0\n",
      "InvoiceDate    0\n",
      "Price          0\n",
      "Customer ID    0\n",
      "Country        0\n",
      "TotalPrice     0\n",
      "dtype: int64\n"
     ]
    }
   ],
   "source": [
    "#Toplam harcama değişkeni oluşturma\n",
    "df[\"TotalPrice\"] = df[\"Quantity\"]*df[\"Price\"]\n",
    "\n",
    "#Eksik değerlerin kontrolü ve temizliği\n",
    "df.dropna(subset=[\"Customer ID\"], inplace=True)\n",
    "\n",
    "df.dropna(subset=[\"Invoice\"], inplace=True) #recency hesaplaması için kritik.\n",
    "\n",
    "print(df.isnull().sum())"
   ]
  },
  {
   "cell_type": "code",
   "execution_count": 9,
   "metadata": {},
   "outputs": [],
   "source": [
    "df = df[~df[\"Invoice\"].str.startswith(\"C\", na=False)] #iade işlemlerini çıkardık. \n",
    "\n",
    "reference_date = df[\"InvoiceDate\"].max() + pd.Timedelta(days=1) #recency hesaplaması için referans tarih. "
   ]
  },
  {
   "cell_type": "code",
   "execution_count": 11,
   "metadata": {},
   "outputs": [],
   "source": [
    "rfm = df.groupby(\"Customer ID\").agg({\n",
    "    \"InvoiceDate\": lambda x: (reference_date - x.max()).days,\n",
    "    \"Invoice\": \"nunique\",\n",
    "    \"TotalPrice\": \"sum\"\n",
    "})\n",
    "\n",
    "rfm.columns = [\"Recency\", \"Frequency\", \"Monetary\"]\n",
    "rfm[\"Recency\"] = rfm[\"Recency\"].astype(int)"
   ]
  },
  {
   "cell_type": "code",
   "execution_count": 12,
   "metadata": {},
   "outputs": [],
   "source": [
    "rfm[\"R_Score\"] = pd.qcut(rfm[\"Recency\"], 5, labels=[5,4,3,2,1])\n",
    "rfm[\"F_Score\"] = pd.qcut(rfm[\"Frequency\"].rank(method=\"first\"), 5, labels=[1,2,3,4,5])\n",
    "rfm[\"M_Score\"] = pd.qcut(rfm[\"Monetary\"], 5, labels=[1,2,3, 4,5])"
   ]
  },
  {
   "cell_type": "code",
   "execution_count": 16,
   "metadata": {},
   "outputs": [],
   "source": [
    "rfm[\"RFM_Score\"] = rfm[\"R_Score\"].astype(str) + rfm[\"F_Score\"].astype(str) + rfm[\"M_Score\"].astype(str)\n",
    "\n",
    "seg_map = {\n",
    "    r'[1-2][1-2]': 'Hibernating',        # Düşük F, Düşük R -> Uyuyanlar\n",
    "    r'[1-2][3-4]': 'At Risk',           # Yüksek F, Düşük R -> Risk Altında (Uzun süredir gelmemiş ama önceden sık geliyordu)\n",
    "    r'[1-2]5': 'Cannot Lose Them',     # En Yüksek F, Düşük R -> Kaybedilmemesi Gerekenler\n",
    "    r'3[1-2]': 'About To Sleep',       # Orta R, Düşük F -> Uyumak Üzere\n",
    "    r'33': 'Need Attention',          # Orta R, Orta F -> İlgi Gerekenler\n",
    "    r'[3-4][4-5]': 'Loyal Customers',     # Orta/Yüksek R, Yüksek F -> Sadık Müşteriler\n",
    "    r'41': 'Promising',               # Yüksek R (Yeni), Düşük F -> Gelecek Vaat Edenler\n",
    "    r'51': 'New Customers',           # En Yüksek R (Çok Yeni), Düşük F -> Yeni Müşteriler\n",
    "    r'[4-5][2-3]': 'Potential Loyalists', # Yüksek R, Orta F -> Potansiyel Sadıklar\n",
    "    r'[4-5][4-5]': 'Champions'            # En Yüksek R, En Yüksek F -> Şampiyonlar (En iyiler)\n",
    "}\n",
    "rfm[\"Segment_RF\"] = rfm[\"R_Score\"].astype(str) + rfm[\"F_Score\"].astype(str)\n",
    "rfm[\"Segment\"] = rfm[\"Segment_RF\"].replace(seg_map, regex=True)"
   ]
  },
  {
   "cell_type": "code",
   "execution_count": 17,
   "metadata": {},
   "outputs": [
    {
     "name": "stdout",
     "output_type": "stream",
     "text": [
      "\n",
      "Müşteri Segmentlerinin Dağılımı:\n",
      "Segment\n",
      "Hibernating            1525\n",
      "Loyal Customers        1161\n",
      "Champions               837\n",
      "At Risk                 753\n",
      "Potential Loyalists     714\n",
      "About To Sleep          384\n",
      "Need Attention          267\n",
      "Promising               114\n",
      "Cannot Lose Them         71\n",
      "New Customers            55\n",
      "Name: count, dtype: int64\n"
     ]
    }
   ],
   "source": [
    "print(\"\\nMüşteri Segmentlerinin Dağılımı:\")\n",
    "print(rfm[\"Segment\"].value_counts())"
   ]
  },
  {
   "cell_type": "code",
   "execution_count": 18,
   "metadata": {},
   "outputs": [
    {
     "data": {
      "text/html": [
       "<div>\n",
       "<style scoped>\n",
       "    .dataframe tbody tr th:only-of-type {\n",
       "        vertical-align: middle;\n",
       "    }\n",
       "\n",
       "    .dataframe tbody tr th {\n",
       "        vertical-align: top;\n",
       "    }\n",
       "\n",
       "    .dataframe thead th {\n",
       "        text-align: right;\n",
       "    }\n",
       "</style>\n",
       "<table border=\"1\" class=\"dataframe\">\n",
       "  <thead>\n",
       "    <tr style=\"text-align: right;\">\n",
       "      <th></th>\n",
       "      <th>Recency</th>\n",
       "      <th>Frequency</th>\n",
       "      <th>Monetary</th>\n",
       "      <th>R_Score</th>\n",
       "      <th>F_Score</th>\n",
       "      <th>M_Score</th>\n",
       "      <th>RFM_Score</th>\n",
       "      <th>Segment</th>\n",
       "      <th>Segment_RF</th>\n",
       "    </tr>\n",
       "    <tr>\n",
       "      <th>Customer ID</th>\n",
       "      <th></th>\n",
       "      <th></th>\n",
       "      <th></th>\n",
       "      <th></th>\n",
       "      <th></th>\n",
       "      <th></th>\n",
       "      <th></th>\n",
       "      <th></th>\n",
       "      <th></th>\n",
       "    </tr>\n",
       "  </thead>\n",
       "  <tbody>\n",
       "    <tr>\n",
       "      <th>12346.0</th>\n",
       "      <td>326</td>\n",
       "      <td>12</td>\n",
       "      <td>77556.46</td>\n",
       "      <td>2</td>\n",
       "      <td>5</td>\n",
       "      <td>5</td>\n",
       "      <td>255</td>\n",
       "      <td>Cannot Lose Them</td>\n",
       "      <td>25</td>\n",
       "    </tr>\n",
       "    <tr>\n",
       "      <th>12347.0</th>\n",
       "      <td>2</td>\n",
       "      <td>8</td>\n",
       "      <td>5633.32</td>\n",
       "      <td>5</td>\n",
       "      <td>4</td>\n",
       "      <td>5</td>\n",
       "      <td>545</td>\n",
       "      <td>Champions</td>\n",
       "      <td>54</td>\n",
       "    </tr>\n",
       "    <tr>\n",
       "      <th>12348.0</th>\n",
       "      <td>75</td>\n",
       "      <td>5</td>\n",
       "      <td>2019.40</td>\n",
       "      <td>3</td>\n",
       "      <td>4</td>\n",
       "      <td>4</td>\n",
       "      <td>344</td>\n",
       "      <td>Loyal Customers</td>\n",
       "      <td>34</td>\n",
       "    </tr>\n",
       "    <tr>\n",
       "      <th>12349.0</th>\n",
       "      <td>19</td>\n",
       "      <td>4</td>\n",
       "      <td>4428.69</td>\n",
       "      <td>5</td>\n",
       "      <td>3</td>\n",
       "      <td>5</td>\n",
       "      <td>535</td>\n",
       "      <td>Potential Loyalists</td>\n",
       "      <td>53</td>\n",
       "    </tr>\n",
       "    <tr>\n",
       "      <th>12350.0</th>\n",
       "      <td>310</td>\n",
       "      <td>1</td>\n",
       "      <td>334.40</td>\n",
       "      <td>2</td>\n",
       "      <td>1</td>\n",
       "      <td>2</td>\n",
       "      <td>212</td>\n",
       "      <td>Hibernating</td>\n",
       "      <td>21</td>\n",
       "    </tr>\n",
       "  </tbody>\n",
       "</table>\n",
       "</div>"
      ],
      "text/plain": [
       "             Recency  Frequency  Monetary R_Score F_Score M_Score RFM_Score  \\\n",
       "Customer ID                                                                   \n",
       "12346.0          326         12  77556.46       2       5       5       255   \n",
       "12347.0            2          8   5633.32       5       4       5       545   \n",
       "12348.0           75          5   2019.40       3       4       4       344   \n",
       "12349.0           19          4   4428.69       5       3       5       535   \n",
       "12350.0          310          1    334.40       2       1       2       212   \n",
       "\n",
       "                         Segment Segment_RF  \n",
       "Customer ID                                  \n",
       "12346.0         Cannot Lose Them         25  \n",
       "12347.0                Champions         54  \n",
       "12348.0          Loyal Customers         34  \n",
       "12349.0      Potential Loyalists         53  \n",
       "12350.0              Hibernating         21  "
      ]
     },
     "execution_count": 18,
     "metadata": {},
     "output_type": "execute_result"
    }
   ],
   "source": [
    "rfm.head()"
   ]
  },
  {
   "cell_type": "code",
   "execution_count": 19,
   "metadata": {},
   "outputs": [
    {
     "name": "stdout",
     "output_type": "stream",
     "text": [
      "\n",
      "RFM analizi sonuçları rfm_analysis_results.csv dosyasına kaydedildi\n"
     ]
    }
   ],
   "source": [
    "rfm_output_file = \"rfm_analysis_results.csv\"\n",
    "rfm.reset_index().to_csv(rfm_output_file, index=False)\n",
    "print(f\"\\nRFM analizi sonuçları {rfm_output_file} dosyasına kaydedildi\")"
   ]
  }
 ],
 "metadata": {
  "kernelspec": {
   "display_name": "Python 3",
   "language": "python",
   "name": "python3"
  },
  "language_info": {
   "codemirror_mode": {
    "name": "ipython",
    "version": 3
   },
   "file_extension": ".py",
   "mimetype": "text/x-python",
   "name": "python",
   "nbconvert_exporter": "python",
   "pygments_lexer": "ipython3",
   "version": "3.13.2"
  }
 },
 "nbformat": 4,
 "nbformat_minor": 2
}
