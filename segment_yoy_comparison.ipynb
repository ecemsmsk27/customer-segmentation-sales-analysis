{
 "cells": [
  {
   "cell_type": "code",
   "execution_count": null,
   "metadata": {},
   "outputs": [],
   "source": [
    "import pandas as pd\n",
    "import datetime as dt\n",
    "\n",
    "csv_file = \"cleaned_online_retail_II_data.csv\" #daha önce 2009-2010 ve 2010-2011 yıllarının birleştirilmiş haline (cleaned_online_retail_data.csv) de rfm analiz uygulayıp rfm_analysis_I_II_results.csv dosyasına kaydettmiştim.\n",
    "df = pd.read_csv(csv_file)"
   ]
  },
  {
   "cell_type": "code",
   "execution_count": 10,
   "metadata": {},
   "outputs": [
    {
     "name": "stdout",
     "output_type": "stream",
     "text": [
      "Index(['Invoice', 'StockCode', 'Description', 'Quantity', 'InvoiceDate',\n",
      "       'Price', 'Customer ID', 'Country', 'TotalPrice'],\n",
      "      dtype='object')\n"
     ]
    }
   ],
   "source": [
    "print(df.columns)"
   ]
  },
  {
   "cell_type": "code",
   "execution_count": 13,
   "metadata": {},
   "outputs": [],
   "source": [
    "df[\"InvoiceDate\"] = pd.to_datetime(df[\"InvoiceDate\"])\n",
    "reference_date = df[\"InvoiceDate\"].max() + pd.Timedelta(days=1) #recency hesaplaması için referans tarih. "
   ]
  },
  {
   "cell_type": "code",
   "execution_count": 14,
   "metadata": {},
   "outputs": [],
   "source": [
    "rfm = df.groupby(\"Customer ID\").agg({\n",
    "    \"InvoiceDate\": lambda x: (reference_date - x.max()).days,\n",
    "    \"Invoice\": \"nunique\",\n",
    "    \"TotalPrice\": \"sum\"\n",
    "})\n",
    "\n",
    "rfm.columns = [\"Recency\", \"Frequency\", \"Monetary\"]\n",
    "rfm[\"Recency\"] = rfm[\"Recency\"].astype(int)"
   ]
  },
  {
   "cell_type": "code",
   "execution_count": 15,
   "metadata": {},
   "outputs": [],
   "source": [
    "rfm[\"R_Score\"] = pd.qcut(rfm[\"Recency\"], 5, labels=[5,4,3,2,1])\n",
    "rfm[\"F_Score\"] = pd.qcut(rfm[\"Frequency\"].rank(method=\"first\"), 5, labels=[1,2,3,4,5])\n",
    "rfm[\"M_Score\"] = pd.qcut(rfm[\"Monetary\"], 5, labels=[1,2,3, 4,5])"
   ]
  },
  {
   "cell_type": "code",
   "execution_count": 16,
   "metadata": {},
   "outputs": [],
   "source": [
    "rfm[\"RFM_Score\"] = rfm[\"R_Score\"].astype(str) + rfm[\"F_Score\"].astype(str) + rfm[\"M_Score\"].astype(str)\n",
    "\n",
    "seg_map = {\n",
    "    r'[1-2][1-2]': 'Hibernating',        # Düşük F, Düşük R -> Uyuyanlar\n",
    "    r'[1-2][3-4]': 'At Risk',           # Yüksek F, Düşük R -> Risk Altında (Uzun süredir gelmemiş ama önceden sık geliyordu)\n",
    "    r'[1-2]5': 'Cannot Lose Them',     # En Yüksek F, Düşük R -> Kaybedilmemesi Gerekenler\n",
    "    r'3[1-2]': 'About To Sleep',       # Orta R, Düşük F -> Uyumak Üzere\n",
    "    r'33': 'Need Attention',          # Orta R, Orta F -> İlgi Gerekenler\n",
    "    r'[3-4][4-5]': 'Loyal Customers',     # Orta/Yüksek R, Yüksek F -> Sadık Müşteriler\n",
    "    r'41': 'Promising',               # Yüksek R (Yeni), Düşük F -> Gelecek Vaat Edenler\n",
    "    r'51': 'New Customers',           # En Yüksek R (Çok Yeni), Düşük F -> Yeni Müşteriler\n",
    "    r'[4-5][2-3]': 'Potential Loyalists', # Yüksek R, Orta F -> Potansiyel Sadıklar\n",
    "    r'[4-5][4-5]': 'Champions'            # En Yüksek R, En Yüksek F -> Şampiyonlar (En iyiler)\n",
    "}\n",
    "rfm[\"Segment_RF\"] = rfm[\"R_Score\"].astype(str) + rfm[\"F_Score\"].astype(str)\n",
    "rfm[\"Segment\"] = rfm[\"Segment_RF\"].replace(seg_map, regex=True)"
   ]
  },
  {
   "cell_type": "code",
   "execution_count": 17,
   "metadata": {},
   "outputs": [
    {
     "name": "stdout",
     "output_type": "stream",
     "text": [
      "\n",
      "Müşteri Segmentlerinin Dağılımı:\n",
      "Segment\n",
      "Hibernating            1065\n",
      "Loyal Customers         827\n",
      "Champions               633\n",
      "At Risk                 580\n",
      "Potential Loyalists     492\n",
      "About To Sleep          351\n",
      "Need Attention          186\n",
      "Promising               100\n",
      "Cannot Lose Them         63\n",
      "New Customers            42\n",
      "Name: count, dtype: int64\n"
     ]
    }
   ],
   "source": [
    "print(\"\\nMüşteri Segmentlerinin Dağılımı:\")\n",
    "print(rfm[\"Segment\"].value_counts())"
   ]
  },
  {
   "cell_type": "code",
   "execution_count": 18,
   "metadata": {},
   "outputs": [
    {
     "data": {
      "text/html": [
       "<div>\n",
       "<style scoped>\n",
       "    .dataframe tbody tr th:only-of-type {\n",
       "        vertical-align: middle;\n",
       "    }\n",
       "\n",
       "    .dataframe tbody tr th {\n",
       "        vertical-align: top;\n",
       "    }\n",
       "\n",
       "    .dataframe thead th {\n",
       "        text-align: right;\n",
       "    }\n",
       "</style>\n",
       "<table border=\"1\" class=\"dataframe\">\n",
       "  <thead>\n",
       "    <tr style=\"text-align: right;\">\n",
       "      <th></th>\n",
       "      <th>Recency</th>\n",
       "      <th>Frequency</th>\n",
       "      <th>Monetary</th>\n",
       "      <th>R_Score</th>\n",
       "      <th>F_Score</th>\n",
       "      <th>M_Score</th>\n",
       "      <th>RFM_Score</th>\n",
       "      <th>Segment_RF</th>\n",
       "      <th>Segment</th>\n",
       "    </tr>\n",
       "    <tr>\n",
       "      <th>Customer ID</th>\n",
       "      <th></th>\n",
       "      <th></th>\n",
       "      <th></th>\n",
       "      <th></th>\n",
       "      <th></th>\n",
       "      <th></th>\n",
       "      <th></th>\n",
       "      <th></th>\n",
       "      <th></th>\n",
       "    </tr>\n",
       "  </thead>\n",
       "  <tbody>\n",
       "    <tr>\n",
       "      <th>12346.0</th>\n",
       "      <td>326</td>\n",
       "      <td>1</td>\n",
       "      <td>77183.60</td>\n",
       "      <td>1</td>\n",
       "      <td>1</td>\n",
       "      <td>5</td>\n",
       "      <td>115</td>\n",
       "      <td>11</td>\n",
       "      <td>Hibernating</td>\n",
       "    </tr>\n",
       "    <tr>\n",
       "      <th>12347.0</th>\n",
       "      <td>2</td>\n",
       "      <td>7</td>\n",
       "      <td>4310.00</td>\n",
       "      <td>5</td>\n",
       "      <td>5</td>\n",
       "      <td>5</td>\n",
       "      <td>555</td>\n",
       "      <td>55</td>\n",
       "      <td>Champions</td>\n",
       "    </tr>\n",
       "    <tr>\n",
       "      <th>12348.0</th>\n",
       "      <td>75</td>\n",
       "      <td>4</td>\n",
       "      <td>1797.24</td>\n",
       "      <td>2</td>\n",
       "      <td>4</td>\n",
       "      <td>4</td>\n",
       "      <td>244</td>\n",
       "      <td>24</td>\n",
       "      <td>At Risk</td>\n",
       "    </tr>\n",
       "    <tr>\n",
       "      <th>12349.0</th>\n",
       "      <td>19</td>\n",
       "      <td>1</td>\n",
       "      <td>1757.55</td>\n",
       "      <td>4</td>\n",
       "      <td>1</td>\n",
       "      <td>4</td>\n",
       "      <td>414</td>\n",
       "      <td>41</td>\n",
       "      <td>Promising</td>\n",
       "    </tr>\n",
       "    <tr>\n",
       "      <th>12350.0</th>\n",
       "      <td>310</td>\n",
       "      <td>1</td>\n",
       "      <td>334.40</td>\n",
       "      <td>1</td>\n",
       "      <td>1</td>\n",
       "      <td>2</td>\n",
       "      <td>112</td>\n",
       "      <td>11</td>\n",
       "      <td>Hibernating</td>\n",
       "    </tr>\n",
       "  </tbody>\n",
       "</table>\n",
       "</div>"
      ],
      "text/plain": [
       "             Recency  Frequency  Monetary R_Score F_Score M_Score RFM_Score  \\\n",
       "Customer ID                                                                   \n",
       "12346.0          326          1  77183.60       1       1       5       115   \n",
       "12347.0            2          7   4310.00       5       5       5       555   \n",
       "12348.0           75          4   1797.24       2       4       4       244   \n",
       "12349.0           19          1   1757.55       4       1       4       414   \n",
       "12350.0          310          1    334.40       1       1       2       112   \n",
       "\n",
       "            Segment_RF      Segment  \n",
       "Customer ID                          \n",
       "12346.0             11  Hibernating  \n",
       "12347.0             55    Champions  \n",
       "12348.0             24      At Risk  \n",
       "12349.0             41    Promising  \n",
       "12350.0             11  Hibernating  "
      ]
     },
     "execution_count": 18,
     "metadata": {},
     "output_type": "execute_result"
    }
   ],
   "source": [
    "rfm.head()"
   ]
  },
  {
   "cell_type": "code",
   "execution_count": 19,
   "metadata": {},
   "outputs": [
    {
     "name": "stdout",
     "output_type": "stream",
     "text": [
      "\n",
      "RFM analizi sonuçları rfm_analysis_II_results.csv dosyasına kaydedildi\n"
     ]
    }
   ],
   "source": [
    "rfm_output_file = \"rfm_analysis_II_results.csv\"\n",
    "rfm.reset_index().to_csv(rfm_output_file, index=False)\n",
    "print(f\"\\nRFM analizi sonuçları {rfm_output_file} dosyasına kaydedildi\")"
   ]
  },
  {
   "cell_type": "markdown",
   "metadata": {},
   "source": [
    "---- RFM Segment Dağılımı Yıl Bazlı Karşılaştırma ----"
   ]
  },
  {
   "cell_type": "code",
   "execution_count": 25,
   "metadata": {},
   "outputs": [],
   "source": [
    "def calculate_rfm(dataframe, reference_date):\n",
    "    rfm_calc = dataframe.groupby(\"Customer ID\").agg({\n",
    "        \"InvoiceDate\": lambda x: (reference_date - x.max()).days,\n",
    "        \"Invoice\": \"nunique\",\n",
    "        \"TotalPrice\": \"sum\"\n",
    "    })\n",
    "    rfm_calc.columns = [\"Recency\", \"Frequency\", \"Monetary\"] \n",
    "    rfm_calc = rfm_calc[rfm_calc[\"Monetary\"] > 0]\n",
    "    rfm_calc[\"Recency\"] = rfm_calc[\"Recency\"].astype(int)\n",
    "\n",
    "    rfm_calc[\"R_Score\"] = pd.qcut(rfm_calc[\"Recency\"], 5, labels=[5,4,3,2,1])\n",
    "    rfm_calc[\"F_Score\"] = pd.qcut(rfm_calc[\"Frequency\"].rank(method=\"first\"), 5, labels=[1,2,3,4,5])\n",
    "    rfm_calc[\"M_Score\"] = pd.qcut(rfm_calc[\"Monetary\"], 5, labels=[1,2,3, 4,5])\n",
    "    \n",
    "    seg_map = {\n",
    "        r'[1-2][1-2]': 'Hibernating',\n",
    "        r'[1-2][3-4]': 'At Risk',\n",
    "        r'[1-2]5': 'Cannot Lose Them',\n",
    "        r'3[1-2]': 'About To Sleep',\n",
    "        r'33': 'Need Attention',\n",
    "        r'[3-4][4-5]': 'Loyal Customers',\n",
    "        r'41': 'Promising',\n",
    "        r'51': 'New Customers',\n",
    "        r'[4-5][2-3]': 'Potential Loyalists',\n",
    "        r'[4-5][4-5]': 'Champions'\n",
    "    }\n",
    "    rfm_calc['Segment_RF'] = rfm_calc['R_Score'].astype(str)+rfm_calc['F_Score'].astype(str)\n",
    "    rfm_calc['Segment'] = rfm_calc['Segment_RF'].replace(seg_map, regex=True)\n",
    "    return rfm_calc"
   ]
  },
  {
   "cell_type": "code",
   "execution_count": 26,
   "metadata": {},
   "outputs": [],
   "source": [
    "# 1. 2010 Sonu itibarıyla RFM\n",
    "ref_date_2010 = pd.to_datetime('2011-01-01')\n",
    "df_2010_data = df[df['InvoiceDate'] < ref_date_2010].copy()\n",
    "rfm_2010 = calculate_rfm(df_2010_data, ref_date_2010)\n",
    "segment_counts_2010 = rfm_2010['Segment'].value_counts().reset_index()\n",
    "segment_counts_2010.columns = ['Segment', 'Count_2010']\n",
    "\n",
    "# 2. 2011 Sonu itibarıyla RFM (Tüm veri üzerinden, orijinal referans tarihi ile)\n",
    "ref_date_2011 = df[\"InvoiceDate\"].max() + pd.Timedelta(days=1) \n",
    "rfm_2011 = calculate_rfm(df, ref_date_2011) \n",
    "segment_counts_2011 = rfm_2011['Segment'].value_counts().reset_index()\n",
    "segment_counts_2011.columns = ['Segment', 'Count_2011']\n",
    "\n",
    "# 3. Karşılaştırma\n",
    "segment_comparison = pd.merge(segment_counts_2010, segment_counts_2011, on='Segment', how='outer').fillna(0)\n",
    "segment_comparison['Count_2010'] = segment_comparison['Count_2010'].astype(int)\n",
    "segment_comparison['Count_2011'] = segment_comparison['Count_2011'].astype(int)\n",
    "segment_comparison['Change'] = segment_comparison['Count_2011'] - segment_comparison['Count_2010']"
   ]
  },
  {
   "cell_type": "code",
   "execution_count": 27,
   "metadata": {},
   "outputs": [
    {
     "name": "stdout",
     "output_type": "stream",
     "text": [
      "\n",
      "RFM Segment Dağılımının Yıllık Değişimi:\n",
      "               Segment  Count_2010  Count_2011  Change\n",
      "0       About To Sleep          86         351     265\n",
      "1              At Risk         124         580     456\n",
      "2     Cannot Lose Them          24          63      39\n",
      "3            Champions         129         633     504\n",
      "4          Hibernating         137        1065     928\n",
      "5      Loyal Customers         150         827     677\n",
      "6       Need Attention          45         186     141\n",
      "7        New Customers          39          42       3\n",
      "8  Potential Loyalists         124         492     368\n",
      "9            Promising          27          99      72\n"
     ]
    }
   ],
   "source": [
    "print(\"\\nRFM Segment Dağılımının Yıllık Değişimi:\")\n",
    "print(segment_comparison.sort_values(by='Segment'))"
   ]
  },
  {
   "cell_type": "code",
   "execution_count": 28,
   "metadata": {},
   "outputs": [
    {
     "name": "stdout",
     "output_type": "stream",
     "text": [
      "\n",
      "Segment yıllık karşılaştırma 'segment_yoy_comparison.csv' dosyasına kaydedildi.\n"
     ]
    }
   ],
   "source": [
    "segment_yoy_output_file = \"segment_yoy_comparison.csv\"\n",
    "segment_comparison.to_csv(segment_yoy_output_file, index=False)\n",
    "print(f\"\\nSegment yıllık karşılaştırma '{segment_yoy_output_file}' dosyasına kaydedildi.\")"
   ]
  }
 ],
 "metadata": {
  "kernelspec": {
   "display_name": "Python 3",
   "language": "python",
   "name": "python3"
  },
  "language_info": {
   "codemirror_mode": {
    "name": "ipython",
    "version": 3
   },
   "file_extension": ".py",
   "mimetype": "text/x-python",
   "name": "python",
   "nbconvert_exporter": "python",
   "pygments_lexer": "ipython3",
   "version": "3.13.2"
  }
 },
 "nbformat": 4,
 "nbformat_minor": 2
}
