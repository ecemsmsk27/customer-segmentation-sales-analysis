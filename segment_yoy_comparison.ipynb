{
 "cells": [
  {
   "cell_type": "code",
   "execution_count": null,
   "metadata": {},
   "outputs": [],
   "source": [
    "import pandas as pd\n",
    "import datetime as dt\n",
    "\n",
    "csv_file = \"cleaned_online_retail_II_data.csv\" #daha önce 2009-2010 ve 2010-2011 yıllarının birleştirilmiş haline (cleaned_online_retail_data.csv) de rfm analiz uygulayıp rfm_analysis_I_II_results.csv dosyasına kaydettmiştim.\n",
    "df = pd.read_csv(csv_file)"
   ]
  },
  {
   "cell_type": "code",
   "execution_count": 10,
   "metadata": {},
   "outputs": [
    {
     "name": "stdout",
     "output_type": "stream",
     "text": [
      "Index(['Invoice', 'StockCode', 'Description', 'Quantity', 'InvoiceDate',\n",
      "       'Price', 'Customer ID', 'Country', 'TotalPrice'],\n",
      "      dtype='object')\n"
     ]
    }
   ],
   "source": [
    "print(df.columns)"
   ]
  },
  {
   "cell_type": "markdown",
   "metadata": {},
   "source": [
    "---- RFM Segment Dağılımı Yıl Bazlı Karşılaştırma ----"
   ]
  },
  {
   "cell_type": "code",
   "execution_count": 25,
   "metadata": {},
   "outputs": [],
   "source": [
    "def calculate_rfm(dataframe, reference_date):\n",
    "    rfm_calc = dataframe.groupby(\"Customer ID\").agg({\n",
    "        \"InvoiceDate\": lambda x: (reference_date - x.max()).days,\n",
    "        \"Invoice\": \"nunique\",\n",
    "        \"TotalPrice\": \"sum\"\n",
    "    })\n",
    "    rfm_calc.columns = [\"Recency\", \"Frequency\", \"Monetary\"] \n",
    "    rfm_calc = rfm_calc[rfm_calc[\"Monetary\"] > 0]\n",
    "    rfm_calc[\"Recency\"] = rfm_calc[\"Recency\"].astype(int)\n",
    "\n",
    "    rfm_calc[\"R_Score\"] = pd.qcut(rfm_calc[\"Recency\"], 5, labels=[5,4,3,2,1])\n",
    "    rfm_calc[\"F_Score\"] = pd.qcut(rfm_calc[\"Frequency\"].rank(method=\"first\"), 5, labels=[1,2,3,4,5])\n",
    "    rfm_calc[\"M_Score\"] = pd.qcut(rfm_calc[\"Monetary\"], 5, labels=[1,2,3, 4,5])\n",
    "    \n",
    "    seg_map = {\n",
    "        r'[1-2][1-2]': 'Hibernating',\n",
    "        r'[1-2][3-4]': 'At Risk',\n",
    "        r'[1-2]5': 'Cannot Lose Them',\n",
    "        r'3[1-2]': 'About To Sleep',\n",
    "        r'33': 'Need Attention',\n",
    "        r'[3-4][4-5]': 'Loyal Customers',\n",
    "        r'41': 'Promising',\n",
    "        r'51': 'New Customers',\n",
    "        r'[4-5][2-3]': 'Potential Loyalists',\n",
    "        r'[4-5][4-5]': 'Champions'\n",
    "    }\n",
    "    rfm_calc['Segment_RF'] = rfm_calc['R_Score'].astype(str)+rfm_calc['F_Score'].astype(str)\n",
    "    rfm_calc['Segment'] = rfm_calc['Segment_RF'].replace(seg_map, regex=True)\n",
    "    return rfm_calc"
   ]
  },
  {
   "cell_type": "code",
   "execution_count": 26,
   "metadata": {},
   "outputs": [],
   "source": [
    "# 1. 2010 Sonu itibarıyla RFM\n",
    "ref_date_2010 = pd.to_datetime('2011-01-01')\n",
    "df_2010_data = df[df['InvoiceDate'] < ref_date_2010].copy()\n",
    "rfm_2010 = calculate_rfm(df_2010_data, ref_date_2010)\n",
    "segment_counts_2010 = rfm_2010['Segment'].value_counts().reset_index()\n",
    "segment_counts_2010.columns = ['Segment', 'Count_2010']\n",
    "\n",
    "# 2. 2011 Sonu itibarıyla RFM (Tüm veri üzerinden, orijinal referans tarihi ile)\n",
    "ref_date_2011 = df[\"InvoiceDate\"].max() + pd.Timedelta(days=1) \n",
    "rfm_2011 = calculate_rfm(df, ref_date_2011) \n",
    "segment_counts_2011 = rfm_2011['Segment'].value_counts().reset_index()\n",
    "segment_counts_2011.columns = ['Segment', 'Count_2011']\n",
    "\n",
    "# 3. Karşılaştırma\n",
    "segment_comparison = pd.merge(segment_counts_2010, segment_counts_2011, on='Segment', how='outer').fillna(0)\n",
    "segment_comparison['Count_2010'] = segment_comparison['Count_2010'].astype(int)\n",
    "segment_comparison['Count_2011'] = segment_comparison['Count_2011'].astype(int)\n",
    "segment_comparison['Change'] = segment_comparison['Count_2011'] - segment_comparison['Count_2010']"
   ]
  },
  {
   "cell_type": "code",
   "execution_count": 27,
   "metadata": {},
   "outputs": [
    {
     "name": "stdout",
     "output_type": "stream",
     "text": [
      "\n",
      "RFM Segment Dağılımının Yıllık Değişimi:\n",
      "               Segment  Count_2010  Count_2011  Change\n",
      "0       About To Sleep          86         351     265\n",
      "1              At Risk         124         580     456\n",
      "2     Cannot Lose Them          24          63      39\n",
      "3            Champions         129         633     504\n",
      "4          Hibernating         137        1065     928\n",
      "5      Loyal Customers         150         827     677\n",
      "6       Need Attention          45         186     141\n",
      "7        New Customers          39          42       3\n",
      "8  Potential Loyalists         124         492     368\n",
      "9            Promising          27          99      72\n"
     ]
    }
   ],
   "source": [
    "print(\"\\nRFM Segment Dağılımının Yıllık Değişimi:\")\n",
    "print(segment_comparison.sort_values(by='Segment'))"
   ]
  },
  {
   "cell_type": "code",
   "execution_count": 28,
   "metadata": {},
   "outputs": [
    {
     "name": "stdout",
     "output_type": "stream",
     "text": [
      "\n",
      "Segment yıllık karşılaştırma 'segment_yoy_comparison.csv' dosyasına kaydedildi.\n"
     ]
    }
   ],
   "source": [
    "segment_yoy_output_file = \"segment_yoy_comparison.csv\"\n",
    "segment_comparison.to_csv(segment_yoy_output_file, index=False)\n",
    "print(f\"\\nSegment yıllık karşılaştırma '{segment_yoy_output_file}' dosyasına kaydedildi.\")"
   ]
  }
 ],
 "metadata": {
  "kernelspec": {
   "display_name": "Python 3",
   "language": "python",
   "name": "python3"
  },
  "language_info": {
   "codemirror_mode": {
    "name": "ipython",
    "version": 3
   },
   "file_extension": ".py",
   "mimetype": "text/x-python",
   "name": "python",
   "nbconvert_exporter": "python",
   "pygments_lexer": "ipython3",
   "version": "3.13.2"
  }
 },
 "nbformat": 4,
 "nbformat_minor": 2
}
