{
 "cells": [
  {
   "cell_type": "markdown",
   "metadata": {},
   "source": [
    "2010-2011 Verilerinin Önişlenmesi ve CSV dosyasına aktarılması. "
   ]
  },
  {
   "cell_type": "code",
   "execution_count": 1,
   "metadata": {},
   "outputs": [],
   "source": [
    "import pandas as pd\n",
    "import datetime as dt\n",
    "\n",
    "excel_file = \"online_retail_II.xlsx\"\n",
    "df = pd.read_excel(excel_file, sheet_name=\"Year 2010-2011\")"
   ]
  },
  {
   "cell_type": "code",
   "execution_count": 2,
   "metadata": {},
   "outputs": [
    {
     "name": "stdout",
     "output_type": "stream",
     "text": [
      "Index(['Invoice', 'StockCode', 'Description', 'Quantity', 'InvoiceDate',\n",
      "       'Price', 'Customer ID', 'Country'],\n",
      "      dtype='object')\n"
     ]
    }
   ],
   "source": [
    "print(df.columns)"
   ]
  },
  {
   "cell_type": "code",
   "execution_count": 3,
   "metadata": {},
   "outputs": [
    {
     "name": "stdout",
     "output_type": "stream",
     "text": [
      "Invoice        0\n",
      "StockCode      0\n",
      "Description    0\n",
      "Quantity       0\n",
      "InvoiceDate    0\n",
      "Price          0\n",
      "Customer ID    0\n",
      "Country        0\n",
      "TotalPrice     0\n",
      "dtype: int64\n"
     ]
    }
   ],
   "source": [
    "#Toplam harcama değişkeni oluşturma\n",
    "df[\"TotalPrice\"] = df[\"Quantity\"]*df[\"Price\"]\n",
    "\n",
    "#Eksik değerlerin kontrolü ve temizliği\n",
    "df.dropna(subset=[\"Customer ID\"], inplace=True)\n",
    "\n",
    "df.dropna(subset=[\"Invoice\"], inplace=True) #recency hesaplaması için kritik.\n",
    "\n",
    "df = df[~df[\"Invoice\"].str.startswith(\"C\", na=False)] #iade işlemlerini çıkardık.  \n",
    "\n",
    "print(df.isnull().sum())"
   ]
  },
  {
   "cell_type": "code",
   "execution_count": 4,
   "metadata": {},
   "outputs": [
    {
     "name": "stdout",
     "output_type": "stream",
     "text": [
      "Temizlenmiş veri seti cleaned_online_retail_II_data.csv dosyasına kaydedildi\n"
     ]
    }
   ],
   "source": [
    "clean_df_output_file = \"cleaned_online_retail_II_data.csv\"\n",
    "df.to_csv(clean_df_output_file, index=False)\n",
    "print(f\"Temizlenmiş veri seti {clean_df_output_file} dosyasına kaydedildi\")"
   ]
  }
 ],
 "metadata": {
  "kernelspec": {
   "display_name": "Python 3",
   "language": "python",
   "name": "python3"
  },
  "language_info": {
   "codemirror_mode": {
    "name": "ipython",
    "version": 3
   },
   "file_extension": ".py",
   "mimetype": "text/x-python",
   "name": "python",
   "nbconvert_exporter": "python",
   "pygments_lexer": "ipython3",
   "version": "3.13.2"
  }
 },
 "nbformat": 4,
 "nbformat_minor": 2
}
