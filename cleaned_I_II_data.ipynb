{
 "cells": [
  {
   "cell_type": "code",
   "execution_count": null,
   "metadata": {},
   "outputs": [],
   "source": [
    "import pandas as pd\n",
    "import datetime as dt\n",
    "\n",
    "excel_file = \"online_retail_II.xlsx\"\n",
    "df_2009_2010 = pd.read_excel(excel_file, sheet_name=\"Year 2009-2010\")\n",
    "df_2010_2011 = pd.read_excel(excel_file, sheet_name=\"Year 2010-2011\")\n",
    "\n",
    "df = pd.concat([df_2009_2010, df_2010_2011], ignore_index=True)"
   ]
  },
  {
   "cell_type": "code",
   "execution_count": null,
   "metadata": {},
   "outputs": [],
   "source": [
    "print(df.columns)"
   ]
  },
  {
   "cell_type": "code",
   "execution_count": null,
   "metadata": {},
   "outputs": [],
   "source": [
    "#Toplam harcama değişkeni oluşturma\n",
    "df[\"TotalPrice\"] = df[\"Quantity\"]*df[\"Price\"]\n",
    "\n",
    "#Eksik değerlerin kontrolü ve temizliği\n",
    "df.dropna(subset=[\"Customer ID\"], inplace=True)\n",
    "\n",
    "df.dropna(subset=[\"Invoice\"], inplace=True) #recency hesaplaması için kritik.\n",
    "\n",
    "df = df[~df[\"Invoice\"].str.startswith(\"C\", na=False)] #iade işlemlerini çıkardık.  \n",
    "\n",
    "print(df.isnull().sum())"
   ]
  },
  {
   "cell_type": "code",
   "execution_count": null,
   "metadata": {},
   "outputs": [],
   "source": [
    "clean_df_output_file = \"cleaned_online_retail_data.csv\"\n",
    "df.to_csv(clean_df_output_file, index=False)\n",
    "print(f\"Temizlenmiş veri seti {clean_df_output_file} dosyasına kaydedildi\")"
   ]
  }
 ],
 "metadata": {
  "language_info": {
   "name": "python"
  }
 },
 "nbformat": 4,
 "nbformat_minor": 2
}
